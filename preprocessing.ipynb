{
 "cells": [
  {
   "cell_type": "code",
   "execution_count": null,
   "id": "5ec67a25-d93a-4122-ab3b-5e6360442b2c",
   "metadata": {},
   "outputs": [],
   "source": [
    "#requierments\n",
    "#!pip install langchain unstructured openai chromadb Cython tiktoken pypdf"
   ]
  },
  {
   "cell_type": "markdown",
   "id": "15630930-7502-44e0-aa57-f8ee8cffb8a2",
   "metadata": {},
   "source": [
    "# Vector Store Stage:\n",
    "![Langchain_first_phase.jpg](./images/Langchain_first_phase.JPG)"
   ]
  },
  {
   "cell_type": "markdown",
   "id": "73ff15f4-e5a7-4514-a3be-75ddda6bc3b9",
   "metadata": {},
   "source": [
    "# Imports & Environment Setup:"
   ]
  },
  {
   "cell_type": "code",
   "execution_count": null,
   "id": "db801a87-9f3b-4e6f-9c70-4bc2aeacb08e",
   "metadata": {},
   "outputs": [],
   "source": [
    "import os\n",
    "from langchain.document_loaders import PyPDFDirectoryLoader # Loading the PDF files from a specific directory.\n",
    "from langchain.text_splitter import RecursiveCharacterTextSplitter # Spliting the documents into number of chuncks.\n",
    "from langchain.embeddings.openai import OpenAIEmbeddings # To get the embedding for our docs\n",
    "from langchain.vectorstores import Chroma # to create a vector database and save the documents embedding into it.\n",
    "os.environ[\"OPENAI_API_KEY\"] = \"YOUR_OPENAI_API_KEY\"\n"
   ]
  },
  {
   "cell_type": "markdown",
   "id": "2144f857-1bb9-4337-b21b-16fbf62aa343",
   "metadata": {},
   "source": [
    "![Langchain_first_phase_1.jpg](./images/Langchain_first_phase_1.JPG)"
   ]
  },
  {
   "cell_type": "markdown",
   "id": "e9211269-0d67-42ad-bbe9-6e0c97c4ea2d",
   "metadata": {},
   "source": [
    "# Documents Loading:"
   ]
  },
  {
   "cell_type": "code",
   "execution_count": null,
   "id": "d13ddd04-3aef-420a-b93e-bc1de85a6550",
   "metadata": {},
   "outputs": [],
   "source": [
    "pdf_folder_path = \"./path_to_pdfs\"\n",
    "loader = PyPDFDirectoryLoader(pdf_folder_path)\n",
    "\n",
    "docs = loader.load()"
   ]
  },
  {
   "cell_type": "markdown",
   "id": "fedd5991-2d1d-4ecf-8a86-1b3d2c3146f5",
   "metadata": {},
   "source": [
    "# Splitting Documents:\n",
    "![Langchain_first_phase_2.jpg](./images/Langchain_first_phase_2.JPG)"
   ]
  },
  {
   "cell_type": "code",
   "execution_count": null,
   "id": "68ffa70e-7b36-4dd6-8011-72e503728238",
   "metadata": {},
   "outputs": [],
   "source": [
    "split_docs = splitter.split_documents(docs)"
   ]
  },
  {
   "cell_type": "markdown",
   "id": "105a1a5a-8ef0-4cd4-88eb-4b7d6ff516b8",
   "metadata": {},
   "source": [
    "# Storage Phase:\n",
    "#### Creating a vector database to store the embedded chuncks and store it in a specific directory.\n",
    "![Langchain_first_phase_3.jpg](./images/Langchain_first_phase_3.JPG)"
   ]
  },
  {
   "cell_type": "code",
   "execution_count": null,
   "id": "49da6b40-07ad-47ef-9501-fdf5e4c2ea30",
   "metadata": {},
   "outputs": [],
   "source": [
    "embedding = OpenAIEmbeddings()\n",
    "persist_directory = 'path_to_save_docs_after_vectorizing/chroma/'"
   ]
  },
  {
   "cell_type": "code",
   "execution_count": null,
   "id": "081fc84c-67d6-469e-8b90-fc27dd704455",
   "metadata": {},
   "outputs": [],
   "source": [
    "vectordb = Chroma.from_documents(\n",
    "    documents=split_docs,\n",
    "    embedding=embedding,\n",
    "    persist_directory=persist_directory\n",
    ")"
   ]
  },
  {
   "cell_type": "markdown",
   "id": "a76e60fe-00ba-4bda-9243-0f6e98333b5a",
   "metadata": {},
   "source": [
    "## Save Chroma Database"
   ]
  },
  {
   "cell_type": "code",
   "execution_count": null,
   "id": "fcceaea4-9a30-4d92-b089-7dc9d27cc857",
   "metadata": {},
   "outputs": [],
   "source": [
    "vectordb.persist()"
   ]
  }
 ],
 "metadata": {
  "kernelspec": {
   "display_name": "Python 3 (ipykernel)",
   "language": "python",
   "name": "python3"
  },
  "language_info": {
   "codemirror_mode": {
    "name": "ipython",
    "version": 3
   },
   "file_extension": ".py",
   "mimetype": "text/x-python",
   "name": "python",
   "nbconvert_exporter": "python",
   "pygments_lexer": "ipython3",
   "version": "3.11.0"
  }
 },
 "nbformat": 4,
 "nbformat_minor": 5
}
